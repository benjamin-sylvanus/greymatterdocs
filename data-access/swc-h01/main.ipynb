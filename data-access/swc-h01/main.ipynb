{
 "cells": [
  {
   "cell_type": "markdown",
   "metadata": {},
   "source": [
    "### Skeleton download"
   ]
  },
  {
   "cell_type": "code",
   "execution_count": null,
   "metadata": {},
   "outputs": [],
   "source": [
    "# Install cloud-volume to access h01 mesh and skeleton data.\n",
    "# You may need to restart the runtime after installing.\n",
    "!pip -q install --upgrade numpy\n",
    "!pip -q install cloud-volume"
   ]
  },
  {
   "cell_type": "markdown",
   "metadata": {},
   "source": [
    "<span style=\"color: orange;\">⚠️ Need to restart runtime after installing</span>\n"
   ]
  },
  {
   "cell_type": "code",
   "execution_count": null,
   "metadata": {},
   "outputs": [],
   "source": [
    "import os\n",
    "import numpy as np\n",
    "import google.colab.auth\n",
    "import cloudvolume\n",
    "import asyncio\n",
    "from google.colab import drive"
   ]
  },
  {
   "cell_type": "code",
   "execution_count": null,
   "metadata": {},
   "outputs": [],
   "source": [
    "google.colab.auth.authenticate_user()\n",
    "drive.flush_and_unmount\n",
    "drive.mount(\"/content/drive\", force_remount=True)"
   ]
  },
  {
   "cell_type": "code",
   "execution_count": null,
   "metadata": {},
   "outputs": [],
   "source": [
    "c2_cloudvolume = cloudvolume.CloudVolume('gs://h01-release/data/20210601/c2', progress=True)"
   ]
  },
  {
   "cell_type": "markdown",
   "metadata": {},
   "source": [
    "### Install SWC Directly\n"
   ]
  },
  {
   "cell_type": "code",
   "execution_count": null,
   "metadata": {},
   "outputs": [],
   "source": [
    "IDs = [3166504661, 3240926264, 3284612002, 3327903858, 3400048815]\n",
    "drive_root = '/content/drive/'\n",
    "output_folder = f\"{drive_root}/ImageGeneration/AllSWCs\"\n",
    "\n",
    "if not os.path.exists(output_folder):\n",
    "    os.makedirs(output_folder)\n",
    "\n",
    "def write_skeleton(x, skel):\n",
    "    swc = skel.to_swc()\n",
    "    swc_path = f\"{output_folder}/{x}.swc\"\n",
    "\n",
    "    with open(swc_path, 'w') as f:\n",
    "        f.write(swc)\n",
    "\n",
    "async def process_id(x, skel):\n",
    "    write_skeleton(x, skel)\n",
    "\n",
    "async def main():\n",
    "    skels = c2_cloudvolume.skeleton.get(IDs)\n",
    "    tasks = [process_id(x, skel) for x, skel in zip(IDs, skels)]\n",
    "    await asyncio.gather(*tasks)\n",
    "\n",
    "await main()"
   ]
  },
  {
   "cell_type": "markdown",
   "metadata": {},
   "source": [
    "### Install as \\[Vertex, Edge, Radius\\]"
   ]
  },
  {
   "cell_type": "code",
   "execution_count": null,
   "metadata": {},
   "outputs": [],
   "source": [
    "IDs = [3166504661, 3240926264, 3284612002, 3327903858, 3400048815]\n",
    "drive_root = '/content/drive/'\n",
    "output_folder = f\"{drive_root}/ImageGeneration/AllSWCs\"\n",
    "\n",
    "if not os.path.exists(output_folder):\n",
    "    os.makedirs(output_folder)\n",
    "\n",
    "async def write_skeleton_files(skel, path_to):\n",
    "    skv = path_to + '/skv{0}.txt'\n",
    "    ske = path_to + '/ske{0}.txt'\n",
    "    skr = path_to + '/skr{0}.txt'\n",
    "    \n",
    "    v = np.array(skel.vertices)\n",
    "    e = np.array(skel.edges)\n",
    "    r = np.array(skel.radius)\n",
    "    \n",
    "    np.savetxt(skv.format(skel.id), v.astype(float), fmt='%.2f')\n",
    "    np.savetxt(ske.format(skel.id), e.astype(int), fmt='%i')\n",
    "    np.savetxt(skr.format(skel.id), r.astype(float), fmt='%.2f')\n",
    "\n",
    "async def process_id(x, skel):\n",
    "    await write_skeleton_files(skel, output_folder)\n",
    "\n",
    "async def main():\n",
    "    skels = c2_cloudvolume.skeleton.get(IDs)\n",
    "    tasks = [process_id(x, skel) for x, skel in zip(IDs, skels)]\n",
    "    await asyncio.gather(*tasks)\n",
    "\n",
    "await main()"
   ]
  }
 ],
 "metadata": {
  "language_info": {
   "name": "python"
  }
 },
 "nbformat": 4,
 "nbformat_minor": 2
}
